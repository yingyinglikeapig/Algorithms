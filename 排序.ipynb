{
 "cells": [
  {
   "cell_type": "markdown",
   "metadata": {},
   "source": [
    "## 几种常见的排序"
   ]
  },
 
  {
   "cell_type": "markdown",
   "metadata": {},
   "source": [
    "- 基于递归：插入，合并，快速\n",
    "- 基于减治：插入\n",
    "- 基于分治：合并，快速\n",
    "- 基于变治：堆\n",
    "- 只有堆排序是树的数据结构，其他是数组\n",
    "![avatar](images/paixu.png)"
   ]
  },
  {
   "cell_type": "markdown",
   "metadata": {},
   "source": [
    "### 第一种：冒泡排序"
   ]
  },
  {
   "cell_type": "markdown",
   "metadata": {},
   "source": [
    "**基本思想:**\n",
    "遍历列表，每次都把与当前元素与下一个是逆序的元素交换，把最大或最小的元素排到最后\n",
    "\n",
    "**改进方法：**\n",
    "如果对列表比较一遍没有交换元素，就可以停止算法了。\n",
    "\n",
    "**时间复杂度:**\n",
    "最坏情况平均情况：$O(n^2)$\n"
   ]
  },
  {
   "cell_type": "markdown",
   "metadata": {},
   "source": [
    "**算法实现：**"
   ]
  },
  {
   "cell_type": "code",
   "execution_count": 17,
   "metadata": {},
   "outputs": [],
   "source": [
    "def BubbleSort(array):\n",
    "    \"\"\"输入一个数组，输出一个非降序的数组\"\"\"\n",
    "    tag=0#记录是否交换\n",
    "    for i in range(len(array)-1):\n",
    "        for j in range(len(array)-1-i):\n",
    "            if array[j+1]<array[j]:#如果后一个数小于前一个数交换位置\n",
    "                array[j+1],array[j]=array[j],array[j+1]\n",
    "                tag=1\n",
    "        if tag==0:#一次遍历没有交换，代表剩下数已有序\n",
    "            return array\n",
    "    return array"
   ]
  },
  {
   "cell_type": "code",
   "execution_count": 18,
   "metadata": {},
   "outputs": [
    {
     "data": {
      "text/plain": [
       "[17, 29, 34, 45, 68, 89, 90]"
      ]
     },
     "execution_count": 18,
     "metadata": {},
     "output_type": "execute_result"
    }
   ],
   "source": [
    "BubbleSort([89,45,68,90,29,34,17])"
   ]
  },
  {
   "cell_type": "markdown",
   "metadata": {},
   "source": [
    "### 第二种：选择排序"
   ]
  },
  {
   "cell_type": "markdown",
   "metadata": {},
   "source": [
    "**基本思想：**\n",
    "遍历列表，找到最大或最小的与第一个没有排序好的交换\n",
    "\n",
    "**复杂度分析：**\n",
    "**任何输入**的情况下都是：$O(n^2)$，键的交换次数仅为$O(n)$\n"
   ]
  },
  {
   "cell_type": "markdown",
   "metadata": {},
   "source": [
    "**算法实现：**"
   ]
  },
  {
   "cell_type": "code",
   "execution_count": 3,
   "metadata": {},
   "outputs": [],
   "source": [
    "def SelectionSort(array):\n",
    "    \"\"\"输入一个数组，输出一个非降序序列\"\"\"\n",
    "    for i in range(len(array)-1):\n",
    "        min=i#存放剩余仍未排序最小值的下标\n",
    "        for j in range(i+1,len(array)):\n",
    "            if array[j]<array[min]:\n",
    "                min=j\n",
    "        array[i],array[min]=array[min],array[i]\n",
    "    return array   "
   ]
  },
  {
   "cell_type": "code",
   "execution_count": 4,
   "metadata": {},
   "outputs": [
    {
     "data": {
      "text/plain": [
       "[17, 29, 34, 45, 68, 89, 90]"
      ]
     },
     "execution_count": 4,
     "metadata": {},
     "output_type": "execute_result"
    }
   ],
   "source": [
    "SelectionSort([89,45,68,90,29,34,17])"
   ]
  },
  {
   "cell_type": "markdown",
   "metadata": {},
   "source": [
    "### 第三种：插入排序（减治法，递归）"
   ]
  },
  {
   "cell_type": "markdown",
   "metadata": {},
   "source": [
    "**基本思想：**\n",
    "\n",
    "减一法：假设前n-1个元素已经排序好了，则如何将最后一个元素 插入到其合适的位置中去。这个思想是自顶向下基于递归的，我们可以自低向下基于迭代来实现\n",
    "\n",
    "**算法复杂度分析：**\n",
    "具体分析见P103页\n",
    "\n",
    "最好情况：输入为升序序列$O(n)$\n",
    "\n",
    "最坏情况：输入为严格递减数组,$O(n^2)$\n",
    "\n",
    "平均情况：$O(n)$\n"
   ]
  },
  {
   "cell_type": "markdown",
   "metadata": {},
   "source": [
    "**算法实现：**"
   ]
  },
  {
   "cell_type": "code",
   "execution_count": 5,
   "metadata": {},
   "outputs": [],
   "source": [
    "def InsertionSort(array):\n",
    "    \"\"\"输入一个数组，返回一个非降序的数组\"\"\"\n",
    "    for i in range(1,len(array)):#从数组的第二个数开始插入排序\n",
    "        v=array[i]\n",
    "        j=i-1\n",
    "        while(j>=0 and array[j]>v):#对第i个未排序的数，找到其合适的位置，从后向前遍历找到前面排好序数组中第一个不大于它的数，然后插在那个数的后面\n",
    "            array[j+1]=array[j]\n",
    "            j=j-1\n",
    "        array[j+1]=v\n",
    "    return array"
   ]
  },
  {
   "cell_type": "code",
   "execution_count": 6,
   "metadata": {},
   "outputs": [
    {
     "data": {
      "text/plain": [
       "[17, 29, 34, 45, 68, 89, 90]"
      ]
     },
     "execution_count": 6,
     "metadata": {},
     "output_type": "execute_result"
    }
   ],
   "source": [
    "InsertionSort([89,45,68,90,29,34,17])"
   ]
  },
  {
   "cell_type": "markdown",
   "metadata": {},
   "source": [
    "### 第四种：shell排序"
   ]
  },
  {
   "cell_type": "markdown",
   "metadata": {},
   "source": [
    "**基本思想：**\n",
    "\n",
    "希尔排序(Shell's Sort)是插入排序的一种又称“缩小增量排序”（Diminishing Increment Sort），是直接插入排序算法的一种更高效的改进版本。希尔排序是非稳定排序算法。该方法因D.L.Shell于1959年提出而得名。\n",
    "希尔排序是把记录按下标的一定增量分组，对每组使用直接插入排序算法排序；随着增量逐渐减少，每组包含的关键词越来越多，当增量减至1时，整个文件恰被分成一组，算法便终止。\n",
    "\n",
    "\n",
    "其他待补充"
   ]
  },
  {
   "cell_type": "markdown",
   "metadata": {},
   "source": [
    "### 第五种：合并排序（分治法，递归）"
   ]
  },
  {
   "cell_type": "markdown",
   "metadata": {},
   "source": [
    "**基本思想：**\n",
    "\n",
    "- 将列表分为两个大小最接近的部分\n",
    "- 递归地拆分，拆分时不保证顺序正确\n",
    "- 返回上一层递归时将每两个小部分合并为有序的部分\n",
    "- 继续返回给上一层递归，直到合并为完整列表\n",
    "\n",
    "**复杂度分析：**\n",
    "\n",
    "最好情况：O$(n)$,大概是0.25n\n",
    "\n",
    "最坏情况：$O(nlog{n})$\n",
    "\n",
    "**优缺点：**\n",
    "\n",
    "稳定但是占用线性的额外空间"
   ]
  },
  {
   "cell_type": "markdown",
   "metadata": {},
   "source": [
    "**算法实现：**"
   ]
  },
  {
   "cell_type": "code",
   "execution_count": 7,
   "metadata": {},
   "outputs": [],
   "source": [
    "def Mergesort(array):\n",
    "    \"\"\"递归调用mergesort来对数组排序，输入一个可排序数组，输出一个非降序数组\"\"\"\n",
    "    if len(array)<=1:\n",
    "        return array\n",
    "    if len(array)>1:\n",
    "        listb=array[0:len(array)//2]\n",
    "        listc=array[len(array)//2:]\n",
    "        listb=Mergesort(listb)\n",
    "        listc=Mergesort(listc)\n",
    "        return Merge(listb,listc) "
   ]
  },
  {
   "cell_type": "code",
   "execution_count": 8,
   "metadata": {},
   "outputs": [],
   "source": [
    "def Merge(listb,listc):\n",
    "    \"\"\"将两个有序数组合并成一个数组，输入listb、listc两个有序数组，将已合并的有序数组存放在listd中，返回listd\"\"\"\n",
    "    listd=[]\n",
    "    i=0;j=0\n",
    "    while (i<len(listb) and j<len(listc)):\n",
    "        if(listb[i]<=listc[j]):\n",
    "            listd.append(listb[i])\n",
    "            i+=1\n",
    "        else:\n",
    "            listd.append(listc[j])\n",
    "            j+=1\n",
    "    if(i<len(listb)):\n",
    "        listd=listd+listb[i:]\n",
    "    else:\n",
    "        listd=listd+listc[j:]\n",
    "    return listd"
   ]
  },
  {
   "cell_type": "code",
   "execution_count": 9,
   "metadata": {},
   "outputs": [
    {
     "data": {
      "text/plain": [
       "[1, 2, 3, 4, 5, 7, 8, 9]"
      ]
     },
     "execution_count": 9,
     "metadata": {},
     "output_type": "execute_result"
    }
   ],
   "source": [
    "Mergesort([8,3,2,9,7,1,5,4])"
   ]
  },
  {
   "cell_type": "markdown",
   "metadata": {},
   "source": [
    "### 第六种：快速排序(分治法，递归)"
   ]
  },
  {
   "cell_type": "markdown",
   "metadata": {},
   "source": [
    "**基本思想：**\n",
    "- 将列表参照某一个元素的值分为两个部分（最简单策略，选择第一个元素作为中心元素）\n",
    "- 每个部分整体之间的位置就确定了\n",
    "- 递归拆分每一个小部分\n",
    "- 拆分完成后每一个部分内部顺序是正确的，且所有小部分之间的位置也是确定的\n",
    "- 不需要返回上一层递归进行合并\n",
    "\n",
    "**复杂度分析：**\n",
    "\n",
    "- 最好的情况：$nlog{n}$\n",
    "\n",
    "一次分割最好的情况是在i,j移动的过程中i=j时停止，既有一个值与中值相等，这种情况下，每次分割需要比较n次这种情况下，键比较次数的递推表达式是：C<sub>best</sub>(n)=2C<sub>best</sub>(n/2)+n,根据这个表达式可得C<sub>best</sub>(n)=nlog<sub>2</sub>n\n",
    "\n",
    "\n",
    "\n",
    "- 最坏的情况：${n^2}$\n",
    "\n",
    "在最差的情况下，数组已经排过序array[0,1,2,3...n-1]是严格递增数列，我们将array[0]作为中轴，扫描会停止在array[1]上，导致array[0]会最终和自己交换\n",
    "每次将会比较len(array)+1次，,所以总共比较次数是：C<sub>worst</sub>=（n+1）+n+....+3=(n+1)(n+2)/2\n",
    "\n",
    "- 平均情况C<sub>avarage</sub>=1.39n$log_2{n}$\n",
    "\n",
    "**与合并排序的区别：**\n",
    "\n",
    "不需要合并，但是需要拆解\n",
    "\n",
    "**算法改进：**\n",
    "\n",
    "中轴的选择：随机选择、三平均划分法等"
   ]
  },
  {
   "cell_type": "markdown",
   "metadata": {},
   "source": [
    "一个例子\n",
    "![avatar](images/kuaipai.png)\n",
    "![avatar](images/kuaipai2.png)"
   ]
  },
  {
   "cell_type": "markdown",
   "metadata": {},
   "source": [
    "**算法实现（选取第一个为中轴）：**"
   ]
  },
  {
   "cell_type": "markdown",
   "metadata": {},
   "source": [
    "```\n",
    "伪代码\n",
    "QuickSort(A,p,r)\n",
    "    if p<r\n",
    "        then q = Partition(A,p,r)\n",
    "            QucikSort(A,p,q-1)\n",
    "            QucikSort(A,q+1,r)\n",
    " \n",
    "Partition(A,p,r)\n",
    "    x=A[r]\n",
    "    i=p-1\n",
    "    for j from p to r-1\n",
    "        if A[j]<=x\n",
    "            then i=i+1\n",
    "                exchange A[i],A[j]\n",
    "    exchange A[i+1],A[r]\n",
    "    return i+1\n",
    " ```"
   ]
  },
  {
   "cell_type": "code",
   "execution_count": 10,
   "metadata": {},
   "outputs": [],
   "source": [
    "def QuickSort(arr,firstIndex,lastIndex):\n",
    "    if firstIndex<lastIndex:\n",
    "        divIndex=Partition(arr,firstIndex,lastIndex)\n",
    " \n",
    "        QuickSort(arr,firstIndex,divIndex)        \n",
    "        QuickSort(arr,divIndex+1,lastIndex)\n",
    "    else:\n",
    "        return arr"
   ]
  },
  {
   "cell_type": "code",
   "execution_count": 11,
   "metadata": {},
   "outputs": [],
   "source": [
    " \n",
    "def Partition(arr,firstIndex,lastIndex):\n",
    "    i=firstIndex-1\n",
    "    for j in range(firstIndex,lastIndex):\n",
    "        if arr[j]<=arr[lastIndex]:\n",
    "            i=i+1\n",
    "            arr[i],arr[j]=arr[j],arr[i]\n",
    "    arr[i+1],arr[lastIndex]=arr[lastIndex],arr[i+1]\n",
    "    return i   "
   ]
  },
  {
   "cell_type": "code",
   "execution_count": 12,
   "metadata": {},
   "outputs": [
    {
     "name": "stdout",
     "output_type": "stream",
     "text": [
      "[1, 2, 3, 4, 5, 7, 8, 9]\n"
     ]
    }
   ],
   "source": [
    "arr=[5,3,1,9,8,2,4,7]\n",
    "QuickSort(arr,0,7)\n",
    "print(arr)"
   ]
  },
  {
   "cell_type": "markdown",
   "metadata": {},
   "source": [
    "### 第七种：堆排序"
   ]
  },
  {
   "cell_type": "markdown",
   "metadata": {},
   "source": [
    "堆排序是一基于变治法的排序方法，其通常的存储结构为数组"
   ]
  },
  {
   "cell_type": "markdown",
   "metadata": {},
   "source": [
    "**堆的概念**"
   ]
  },
  {
   "cell_type": "markdown",
   "metadata": {},
   "source": [
    "- 堆（heap）可以定义为一颗二叉树，且满足两个条件（1）完全二叉树（2）父母优势（堆特性）每个节点的键都要大于或者等于其子女的键\n",
    "- 在堆中左右子树并不存在顺序关系"
   ]
  },
  {
   "cell_type": "markdown",
   "metadata": {},
   "source": [
    "**堆的性质**"
   ]
  },
  {
   "cell_type": "markdown",
   "metadata": {},
   "source": [
    "- n 个节点的完全二叉树，它的高度为$\\lfloor{log_2{n}}\\rfloor$\n",
    "- 堆的根总是包含了堆的最大元素\n",
    "- 堆的一个节点以及该节点的子孙也是一个堆\n",
    "- 为了方便起见可以使用数组来实现堆，具体方法是从上到下，从左到右的方式来记录堆元素，将0下标留空。\n",
    "   - 父母节点将会位于数组的前  $\\lfloor n/2 \\rfloor$,而叶子节点将会占据后面 $\\lceil n/2 \\rceil$个位置\n",
    "   - 每一个父母节点，它的子女将会是2*i 或是2*i+1 ,对于一个i键来说，它的父母节点将会是 $\\lfloor i/2 \\rfloor$"
   ]
  },
  {
   "cell_type": "markdown",
   "metadata": {},
   "source": [
    "**堆的构造**"
   ]
  },
  {
   "cell_type": "markdown",
   "metadata": {},
   "source": [
    "- *自低向下构造堆*"
   ]
  },
  {
   "cell_type": "markdown",
   "metadata": {},
   "source": [
    "初始化一个包含n个节点的完全二叉树，按照指定的位置存放键（0索引空着或存放一个限位器其值大于所有数）\n",
    "\n",
    "然后按照以下方式对其进行堆化，从最后的**父母**节点开始,到根为止，检查这些节点是否满足父母优势。如果该节点不满足父母优势，将该节点与其最大的子女\n",
    "交换，然后在检查被交换过得子女节点是否满足父母优势。这个过程一直继续到父母优势满足为止"
   ]
  },
  {
   "cell_type": "code",
   "execution_count": 15,
   "metadata": {},
   "outputs": [],
   "source": [
    "def HeapBottomUp(array):\n",
    "    ran=(len(array)-1)//2\n",
    "    for i in range(ran,0,-1):\n",
    "        k=i\n",
    "        v=array[k]\n",
    "        heap=False\n",
    "        while ((not heap) and (2*k<=len(array)-1)):\n",
    "            j=2*k \n",
    "            if j<len(array)-1:\n",
    "                if array[j]<array[j+1]:\n",
    "                    j=j+1\n",
    "            if v>=array[j]:\n",
    "                heap=True\n",
    "            else:\n",
    "                array[k]=array[j]\n",
    "                k=j\n",
    "                array[k]=v\n",
    "    return array   "
   ]
  },
  {
   "cell_type": "code",
   "execution_count": 16,
   "metadata": {},
   "outputs": [
    {
     "data": {
      "text/plain": [
       "[-1, 9, 6, 8, 2, 5, 7]"
      ]
     },
     "execution_count": 16,
     "metadata": {},
     "output_type": "execute_result"
    }
   ],
   "source": [
    "array=[-1,2,9,7,6,5,8]\n",
    "HeapBottomUp(array)"
   ]
  },
  {
   "cell_type": "markdown",
   "metadata": {},
   "source": [
    "复杂度分析\n",
    "最坏的情况下：O(n)"
   ]
  },
  {
   "cell_type": "markdown",
   "metadata": {},
   "source": [
    "- *自顶向下构造堆*"
   ]
  },
  {
   "cell_type": "markdown",
   "metadata": {},
   "source": [
    "这种算法（效率较上面一种方法较低）通过把新的键连续插入预先构造好的堆，来构造一个新堆\n",
    "\n",
    "把包括键K的新节点附件到当前最后一个叶子节点的后面，然后按照如下方法将K键放入合适的位置\n",
    "\n",
    "拿K键与其父母键比较。如果后者大于前者，算法停止；否则，交换这两个键并把K键与新的父母比较。这种交换一直持续到K不大于它的最后一个父母，或者是到达了根节点"
   ]
  },
  {
   "cell_type": "markdown",
   "metadata": {},
   "source": [
    "算法复杂度分析：\n",
    "O(n$\\log{n}$)"
   ]
  },
  {
   "cell_type": "markdown",
   "metadata": {},
   "source": [
    "**删除任意键**"
   ]
  },
  {
   "cell_type": "markdown",
   "metadata": {},
   "source": [
    "基本思路：将要删除的键与最后一个键交换，然后删除最后一个键，然后严格按照自顶向上的构造算法对树进行堆化"
   ]
  },
  {
   "cell_type": "markdown",
   "metadata": {},
   "source": [
    "算法实现"
   ]
  },
  {
   "cell_type": "markdown",
   "metadata": {},
   "source": [
    "算法复杂度:O($\\log{n}$)"
   ]
  },
  {
   "cell_type": "markdown",
   "metadata": {},
   "source": [
    "**堆排序**"
   ]
  },
  {
   "cell_type": "markdown",
   "metadata": {},
   "source": [
    "基本思路：\n",
    "\n",
    "第一步：构造堆\n",
    "\n",
    "第二步：删除最大键\n",
    "\n",
    "重复以上步骤n-1次"
   ]
  },
  {
   "cell_type": "markdown",
   "metadata": {},
   "source": [
    "代码实现"
   ]
  },
  {
   "cell_type": "markdown",
   "metadata": {},
   "source": [
    "算法复杂度：O($n\\log{n}$)"
   ]
  },
  {
   "cell_type": "markdown",
   "metadata": {},
   "source": [
    "### 第八种：计数排序"
   ]
  },
  {
   "cell_type": "code",
   "execution_count": null,
   "metadata": {},
   "outputs": [],
   "source": []
  }
 ],
 "metadata": {
  "kernelspec": {
   "display_name": "Python 3",
   "language": "python",
   "name": "python3"
  },
  "language_info": {
   "codemirror_mode": {
    "name": "ipython",
    "version": 3
   },
   "file_extension": ".py",
   "mimetype": "text/x-python",
   "name": "python",
   "nbconvert_exporter": "python",
   "pygments_lexer": "ipython3",
   "version": "3.7.0"
  }
 },
 "nbformat": 4,
 "nbformat_minor": 2
}
